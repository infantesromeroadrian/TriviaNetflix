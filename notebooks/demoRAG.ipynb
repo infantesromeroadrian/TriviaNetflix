{
 "cells": [
  {
   "cell_type": "code",
   "id": "initial_id",
   "metadata": {
    "collapsed": true,
    "ExecuteTime": {
     "end_time": "2024-05-12T13:47:58.635062Z",
     "start_time": "2024-05-12T13:47:57.485560Z"
    }
   },
   "source": [
    "from PyPDF2 import PdfReader\n",
    "from langchain.embeddings.openai import OpenAIEmbeddings\n",
    "from langchain.text_splitter import CharacterTextSplitter\n",
    "from langchain.vectorstores import ElasticVectorSearch, Pinecone, Weaviate, FAISS\n",
    "from langchain.prompts import PromptTemplate\n",
    "from langchain.llms import OpenAI\n",
    "import logging\n",
    "from langchain.chains import LLMChain\n",
    "import os\n",
    "import time\n",
    "from dotenv import load_dotenv\n",
    "\n",
    "load_dotenv()\n",
    "\n",
    "# Configuración del logging\n",
    "logging.basicConfig(level=logging.INFO, format='%(asctime)s - %(levelname)s - %(message)s')\n",
    "\n",
    "def tiempo_de_ejecucion(func):\n",
    "    \"\"\"\n",
    "    Decorador que registra el tiempo de ejecución de una función.\n",
    "    \"\"\"\n",
    "    def wrapper(*args, **kwargs):\n",
    "        inicio = time.time()\n",
    "        resultado = func(*args, **kwargs)\n",
    "        fin = time.time()\n",
    "        logging.info(f\"{func.__name__} tomó {fin - inicio} segundos en ejecutarse.\")\n",
    "        return resultado\n",
    "    return wrapper"
   ],
   "execution_count": 1,
   "outputs": []
  },
  {
   "metadata": {
    "ExecuteTime": {
     "end_time": "2024-05-12T13:47:59.462254Z",
     "start_time": "2024-05-12T13:47:59.460187Z"
    }
   },
   "cell_type": "code",
   "source": [
    "# Example usage\n",
    "\n",
    "OpenAI.api_key = os.getenv(\"OPENAI_API_KEY\")\n",
    "json_path = '/Users/adrianinfantes/Desktop/AIR/CollegeStudies/MachineLearningPath/Portfolio/DevProjects/TriviaFlix/data/PreguntasYRespuestas.json'"
   ],
   "id": "25c024ec51540f8",
   "execution_count": 2,
   "outputs": []
  },
  {
   "metadata": {
    "ExecuteTime": {
     "end_time": "2024-05-12T13:48:00.308351Z",
     "start_time": "2024-05-12T13:48:00.305940Z"
    }
   },
   "cell_type": "code",
   "source": [
    "class MiProcesadorNLP:\n",
    "    def __init__(self, temperatura=0.5, max_tokens=100, top_p=1.0, frequency_penalty=0.0, presence_penalty=0.0):\n",
    "        self.template = \"\"\"{question}\"\"\"\n",
    "        self.prompt = PromptTemplate(input_variables=[\"question\"], template=self.template)\n",
    "        self.llm = OpenAI(temperature=temperatura, max_tokens=max_tokens, top_p=top_p, frequency_penalty=frequency_penalty, presence_penalty=presence_penalty)\n",
    "        self.chain = LLMChain(llm=self.llm, prompt=self.prompt)\n",
    "        \n",
    "    @tiempo_de_ejecucion\n",
    "    def ejecutar(self, question):\n",
    "        return self.chain.run(question=question)"
   ],
   "id": "d99479c44dc1dc62",
   "execution_count": 3,
   "outputs": []
  },
  {
   "metadata": {
    "ExecuteTime": {
     "end_time": "2024-05-12T13:48:01.297755Z",
     "start_time": "2024-05-12T13:48:00.988850Z"
    }
   },
   "cell_type": "code",
   "source": [
    "procesador = MiProcesadorNLP()\n",
    "resultado = procesador.ejecutar(question=\"¿Cuál es la capital de Francia?\")\n",
    "logging.info(f\"Resultado: {resultado}\")"
   ],
   "id": "7e1cde388b88700f",
   "execution_count": 4,
   "outputs": []
  },
  {
   "metadata": {
    "ExecuteTime": {
     "end_time": "2024-05-11T20:57:04.265163Z",
     "start_time": "2024-05-11T20:57:04.256205Z"
    }
   },
   "cell_type": "code",
   "source": [
    "import json\n",
    "\n",
    "# Configuración del logging\n",
    "logging.basicConfig(level=logging.INFO, format='%(asctime)s - %(levelname)s - %(message)s')\n",
    "\n",
    "class ProcesadorJson:\n",
    "    def __init__(self, ruta_archivo):\n",
    "        self.ruta_archivo = ruta_archivo\n",
    "\n",
    "    def cargar_json(self):\n",
    "        \"\"\"\n",
    "        Carga un archivo JSON y devuelve su contenido.\n",
    "        \"\"\"\n",
    "        try:\n",
    "            with open(self.ruta_archivo, \"r\") as f:\n",
    "                data = json.load(f)\n",
    "            logging.info(f\"Archivo JSON cargado con éxito: '{self.ruta_archivo}'.\")\n",
    "            return data\n",
    "        except Exception as e:\n",
    "            logging.error(f\"Error al cargar el archivo JSON: {e}\")\n",
    "            return None\n",
    "\n",
    "    def preparar_texto(self):\n",
    "        \"\"\"\n",
    "        Extrae títulos y opciones de las preguntas del JSON, concatenándolos en una única cadena de texto.\n",
    "        \"\"\"\n",
    "        data = self.cargar_json()\n",
    "        if data:\n",
    "            texto_completo = ' '.join([\n",
    "                f\"{item['titulo']} Opción A: {item['opcionA']} Opción B: {item['opcionB']} \" +\n",
    "                f\"Opción C: {item['opcionC']} Opción D: {item['opcionD']}\" \n",
    "                for item in data\n",
    "            ])\n",
    "            logging.info(\"Texto preparado con éxito a partir de JSON.\")\n",
    "            return texto_completo\n",
    "        else:\n",
    "            logging.error(\"No se pudo cargar datos para preparar texto.\")\n",
    "            return \"\""
   ],
   "id": "bcee98f5364666e6",
   "execution_count": 5,
   "outputs": []
  },
  {
   "metadata": {
    "ExecuteTime": {
     "end_time": "2024-05-11T20:57:05.275144Z",
     "start_time": "2024-05-11T20:57:05.270008Z"
    }
   },
   "cell_type": "code",
   "source": [
    "# Uso de ProcesadorJson para cargar un archivo JSON\n",
    "\n",
    "procesador_json = ProcesadorJson(ruta_archivo=json_path)\n",
    "texto_completo = procesador_json.preparar_texto()\n",
    "print(texto_completo)"
   ],
   "id": "d96312afa522e1ad",
   "execution_count": 6,
   "outputs": []
  },
  {
   "metadata": {
    "ExecuteTime": {
     "end_time": "2024-05-11T20:57:06.578195Z",
     "start_time": "2024-05-11T20:57:06.574909Z"
    }
   },
   "cell_type": "code",
   "source": [
    "from langchain.text_splitter import CharacterTextSplitter\n",
    "import logging\n",
    "\n",
    "class SeparadorTexto:\n",
    "    def __init__(self, separator=\".\", chunk_size=1000, chunk_overlap=200):\n",
    "        self.text_splitter = CharacterTextSplitter(\n",
    "            separator=separator,\n",
    "            chunk_size=chunk_size,\n",
    "            chunk_overlap=chunk_overlap,\n",
    "            length_function=len,\n",
    "        )\n",
    "    \n",
    "    def dividir_texto(self, texto):\n",
    "        \"\"\"\n",
    "        Divide el texto en segmentos más pequeños basados en la configuración inicial.\n",
    "        \"\"\"\n",
    "        try:\n",
    "            texts = self.text_splitter.split_text(texto)\n",
    "            logging.info(f\"Texto dividido en {len(texts)} segmentos.\")\n",
    "            return texts\n",
    "        except Exception as e:\n",
    "            logging.error(f\"Error al dividir texto: {e}\")\n",
    "            return []"
   ],
   "id": "4251e4654186666e",
   "execution_count": 7,
   "outputs": []
  },
  {
   "metadata": {
    "ExecuteTime": {
     "end_time": "2024-05-11T20:57:07.782869Z",
     "start_time": "2024-05-11T20:57:07.779509Z"
    }
   },
   "cell_type": "code",
   "source": [
    "# Integración con el flujo de trabajo\n",
    "\n",
    "if texto_completo:\n",
    "    separador = SeparadorTexto()\n",
    "    segmentos_texto = separador.dividir_texto(texto_completo)\n",
    "    \n",
    "    if segmentos_texto:\n",
    "        # Procesar cada segmento con `MiProcesadorNLP` u otra lógica específica\n",
    "        # Por ejemplo, imprimir el primer segmento\n",
    "        print(segmentos_texto[0])\n",
    "    else:\n",
    "        print(\"No se pudo dividir el texto.\")\n",
    "else:\n",
    "    print(\"No se pudo extraer texto del archivo JSON.\")"
   ],
   "id": "807405fab89beba2",
   "execution_count": 8,
   "outputs": []
  },
  {
   "metadata": {
    "ExecuteTime": {
     "end_time": "2024-05-11T20:57:10.335767Z",
     "start_time": "2024-05-11T20:57:10.331740Z"
    }
   },
   "cell_type": "code",
   "source": [
    "from langchain.embeddings.openai import OpenAIEmbeddings\n",
    "from langchain.vectorstores import FAISS\n",
    "import logging\n",
    "\n",
    "class BuscadorDocumentos:\n",
    "    def __init__(self):\n",
    "        self.embeddings = OpenAIEmbeddings()\n",
    "        self.docsearch = None  # Se inicializará después con los textos\n",
    "    \n",
    "    def inicializar_busqueda(self, texts):\n",
    "        \"\"\"\n",
    "        Inicializa el motor de búsqueda FAISS con los textos proporcionados.\n",
    "        \"\"\"\n",
    "        try:\n",
    "            self.docsearch = FAISS.from_texts(texts, self.embeddings)\n",
    "            logging.info(\"Motor de búsqueda FAISS inicializado con éxito.\")\n",
    "        except Exception as e:\n",
    "            logging.error(f\"Error al inicializar FAISS: {e}\")\n",
    "            self.docsearch = None\n",
    "    \n",
    "    def buscar(self, query, top_n=5, search_type='similarity'):\n",
    "        \"\"\"\n",
    "        Realiza una búsqueda en el motor FAISS y devuelve los top_n resultados.\n",
    "        Se espera que search_type sea 'similarity' o 'mmr'.\n",
    "        \"\"\"\n",
    "        if not self.docsearch:\n",
    "            logging.error(\"Motor de búsqueda FAISS no inicializado.\")\n",
    "            return []\n",
    "        try:\n",
    "            resultados = self.docsearch.search(query, top_n=top_n, search_type=search_type)\n",
    "            logging.info(f\"Búsqueda realizada con éxito. {len(resultados)} resultados encontrados.\")\n",
    "            return resultados\n",
    "        except Exception as e:\n",
    "            logging.error(f\"Error durante la búsqueda: {e}\")\n",
    "            return []"
   ],
   "id": "b957e70919f960e6",
   "execution_count": 9,
   "outputs": []
  },
  {
   "metadata": {
    "ExecuteTime": {
     "end_time": "2024-05-11T20:57:13.452411Z",
     "start_time": "2024-05-11T20:57:12.607489Z"
    }
   },
   "cell_type": "code",
   "source": [
    "buscador = BuscadorDocumentos()\n",
    "buscador.inicializar_busqueda(segmentos_texto)\n",
    "\n",
    "# Realizar una búsqueda de ejemplo\n",
    "resultados_busqueda = buscador.buscar(\"Consulta de ejemplo\", top_n=3)\n",
    "if resultados_busqueda:\n",
    "    print(\"Resultados de la búsqueda:\", resultados_busqueda)\n",
    "else:\n",
    "    print(\"No se encontraron resultados.\")"
   ],
   "id": "8c371dea2264cca9",
   "execution_count": 10,
   "outputs": []
  },
  {
   "metadata": {
    "ExecuteTime": {
     "end_time": "2024-05-11T20:57:18.795091Z",
     "start_time": "2024-05-11T20:57:18.763219Z"
    }
   },
   "cell_type": "code",
   "source": [
    "from langchain.chains.question_answering import load_qa_chain\n",
    "from langchain.llms import OpenAI\n",
    "\n",
    "\n",
    "class ProcesadorQA:\n",
    "    def __init__(self, buscador_documentos):\n",
    "        self.buscador_documentos = buscador_documentos\n",
    "        self.chain = load_qa_chain(OpenAI(), chain_type=\"stuff\")\n",
    "    \n",
    "    def ejecutar_qa(self, query):\n",
    "        \"\"\"\n",
    "        Ejecuta una consulta de preguntas y respuestas utilizando documentos\n",
    "        relevantes obtenidos a través de una búsqueda de similitud.\n",
    "        \"\"\"\n",
    "        try:\n",
    "            # Realiza una búsqueda de similitud para encontrar documentos relevantes\n",
    "            docs = self.buscador_documentos.docsearch.similarity_search(query)\n",
    "            # Ejecuta la cadena QA con la pregunta y los documentos encontrados\n",
    "            resultado = self.chain.run(question=query, input_documents=docs)\n",
    "            logging.info(\"Consulta de QA ejecutada con éxito.\")\n",
    "            return resultado\n",
    "        except Exception as e:\n",
    "            logging.error(f\"Error al ejecutar la consulta de QA: {e}\")\n",
    "            return None"
   ],
   "id": "e27d93ff61814c3d",
   "execution_count": 11,
   "outputs": []
  },
  {
   "metadata": {
    "ExecuteTime": {
     "end_time": "2024-05-11T20:57:27.682407Z",
     "start_time": "2024-05-11T20:57:24.264609Z"
    }
   },
   "cell_type": "code",
   "source": [
    "# Creación y uso de ProcesadorQA\n",
    "procesador_qa = ProcesadorQA(buscador)\n",
    "resultado_qa = procesador_qa.ejecutar_qa(query=\"Haz un resumen de las preguntas y respuestas.\")\n",
    "\n",
    "if resultado_qa:\n",
    "    print(\"Resultado de la consulta QA:\", resultado_qa)\n",
    "else:\n",
    "    print(\"No se pudo ejecutar la consulta de QA.\")"
   ],
   "id": "ea6c125db128c65f",
   "execution_count": 12,
   "outputs": []
  },
  {
   "metadata": {
    "ExecuteTime": {
     "end_time": "2024-05-11T20:58:09.050694Z",
     "start_time": "2024-05-11T20:58:06.708197Z"
    }
   },
   "cell_type": "code",
   "source": [
    "# Otra consulta de ejemplo\n",
    "\n",
    "resultado_qa_2 = procesador_qa.ejecutar_qa(query=\"Nombra algunas de las series de netflix que se mencionan en el json.\")\n",
    "if resultado_qa_2:\n",
    "    print(\"Resultado de la consulta QA:\", resultado_qa_2)\n",
    "else:\n",
    "    print(\"No se pudo ejecutar la consulta de QA.\")"
   ],
   "id": "b7d6244a2d44254c",
   "execution_count": 13,
   "outputs": []
  },
  {
   "metadata": {
    "ExecuteTime": {
     "end_time": "2024-05-11T20:58:18.383337Z",
     "start_time": "2024-05-11T20:58:18.378238Z"
    }
   },
   "cell_type": "code",
   "source": [
    "import json\n",
    "\n",
    "class ProcesadorTrivia:\n",
    "    def __init__(self, datos_trivia, procesador_qa):\n",
    "        self.trivia = datos_trivia\n",
    "        self.procesador_qa = procesador_qa\n",
    "\n",
    "    def ejecutar_trivia(self):\n",
    "        \"\"\"Ejecuta las preguntas de trivia y almacena las respuestas utilizando un Procesador QA.\"\"\"\n",
    "        respuestas = {}\n",
    "        for pregunta in self.trivia:\n",
    "            pregunta_texto = f\"{pregunta['titulo']} Opción A: {pregunta['opcionA']} Opción B: {pregunta['opcionB']} \" \\\n",
    "                             f\"Opción C: {pregunta['opcionC']} Opción D: {pregunta['opcionD']}\"\n",
    "            # Simular la recuperación de respuesta utilizando ProcesadorQA\n",
    "            respuesta = self.procesador_qa.ejecutar_qa(query=pregunta_texto)\n",
    "            respuesta_correcta = pregunta[f\"opcion{pregunta['correcta'].upper()}\"]\n",
    "            respuestas[pregunta[\"id\"]] = {\n",
    "                \"pregunta\": pregunta_texto,\n",
    "                \"respuesta_obtenida\": respuesta,\n",
    "                \"respuesta_correcta\": respuesta_correcta\n",
    "            }\n",
    "        return respuestas\n",
    "    \n",
    "    def guardar_respuestas(self, respuestas, ruta_archivo):\n",
    "        \"\"\"Guarda las respuestas de la trivia en un archivo JSON.\"\"\"\n",
    "        try:\n",
    "            with open(ruta_archivo, \"w\") as f:\n",
    "                json.dump(respuestas, f, indent=4)\n",
    "            logging.info(f\"Respuestas de la trivia guardadas en '{ruta_archivo}'.\")\n",
    "        except Exception as e:\n",
    "            logging.error(f\"Error al guardar respuestas de la trivia: {e}\")"
   ],
   "id": "315e5a1af49a314d",
   "execution_count": 14,
   "outputs": []
  },
  {
   "metadata": {},
   "cell_type": "code",
   "execution_count": null,
   "source": [
    "datos_trivia = procesador_json.cargar_json()\n",
    "procesador_trivia = ProcesadorTrivia(datos_trivia, procesador_qa)\n",
    "respuestas_trivia = procesador_trivia.ejecutar_trivia()\n",
    "procesador_trivia.guardar_respuestas(respuestas_trivia, \"respuestas_trivia.json\")"
   ],
   "id": "abbc767320cefd31",
   "outputs": []
  }
 ],
 "metadata": {
  "kernelspec": {
   "display_name": "Python 3",
   "language": "python",
   "name": "python3"
  },
  "language_info": {
   "codemirror_mode": {
    "name": "ipython",
    "version": 2
   },
   "file_extension": ".py",
   "mimetype": "text/x-python",
   "name": "python",
   "nbconvert_exporter": "python",
   "pygments_lexer": "ipython2",
   "version": "2.7.6"
  }
 },
 "nbformat": 4,
 "nbformat_minor": 5
}
