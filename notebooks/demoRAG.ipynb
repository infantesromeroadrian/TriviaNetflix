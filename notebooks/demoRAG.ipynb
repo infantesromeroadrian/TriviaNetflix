{
 "cells": [
  {
   "cell_type": "code",
   "id": "initial_id",
   "metadata": {
    "collapsed": true,
    "ExecuteTime": {
     "end_time": "2024-05-11T20:53:59.630042Z",
     "start_time": "2024-05-11T20:53:59.040047Z"
    }
   },
   "source": [
    "from PyPDF2 import PdfReader\n",
    "from langchain.embeddings.openai import OpenAIEmbeddings\n",
    "from langchain.text_splitter import CharacterTextSplitter\n",
    "from langchain.vectorstores import ElasticVectorSearch, Pinecone, Weaviate, FAISS\n",
    "from langchain.prompts import PromptTemplate\n",
    "from langchain.llms import OpenAI\n",
    "import logging\n",
    "from langchain.chains import LLMChain\n",
    "import os\n",
    "import time\n",
    "from dotenv import load_dotenv\n",
    "\n",
    "load_dotenv()\n",
    "\n",
    "# Configuración del logging\n",
    "logging.basicConfig(level=logging.INFO, format='%(asctime)s - %(levelname)s - %(message)s')\n",
    "\n",
    "def tiempo_de_ejecucion(func):\n",
    "    \"\"\"\n",
    "    Decorador que registra el tiempo de ejecución de una función.\n",
    "    \"\"\"\n",
    "    def wrapper(*args, **kwargs):\n",
    "        inicio = time.time()\n",
    "        resultado = func(*args, **kwargs)\n",
    "        fin = time.time()\n",
    "        logging.info(f\"{func.__name__} tomó {fin - inicio} segundos en ejecutarse.\")\n",
    "        return resultado\n",
    "    return wrapper"
   ],
   "outputs": [],
   "execution_count": 1
  },
  {
   "metadata": {
    "ExecuteTime": {
     "end_time": "2024-05-11T20:54:24.952931Z",
     "start_time": "2024-05-11T20:54:24.950487Z"
    }
   },
   "cell_type": "code",
   "source": [
    "# Example usage\n",
    "\n",
    "OpenAI.api_key = os.getenv(\"OPENAI_API_KEY\")\n",
    "json_path = '/Users/adrianinfantes/Desktop/AIR/CollegeStudies/MachineLearningPath/Portfolio/DevProjects/TriviaFlix/data/PreguntasYRespuestas.json'"
   ],
   "id": "25c024ec51540f8",
   "outputs": [],
   "execution_count": 2
  },
  {
   "metadata": {
    "ExecuteTime": {
     "end_time": "2024-05-11T20:54:30.382102Z",
     "start_time": "2024-05-11T20:54:30.377639Z"
    }
   },
   "cell_type": "code",
   "source": [
    "class MiProcesadorNLP:\n",
    "    def __init__(self, temperatura=0.5, max_tokens=100, top_p=1.0, frequency_penalty=0.0, presence_penalty=0.0):\n",
    "        self.template = \"\"\"{question}\"\"\"\n",
    "        self.prompt = PromptTemplate(input_variables=[\"question\"], template=self.template)\n",
    "        self.llm = OpenAI(temperature=temperatura, max_tokens=max_tokens, top_p=top_p, frequency_penalty=frequency_penalty, presence_penalty=presence_penalty)\n",
    "        self.chain = LLMChain(llm=self.llm, prompt=self.prompt)\n",
    "        \n",
    "    @tiempo_de_ejecucion\n",
    "    def ejecutar(self, question):\n",
    "        return self.chain.run(question=question)"
   ],
   "id": "d99479c44dc1dc62",
   "outputs": [],
   "execution_count": 3
  },
  {
   "metadata": {
    "ExecuteTime": {
     "end_time": "2024-05-11T20:54:32.247358Z",
     "start_time": "2024-05-11T20:54:31.467144Z"
    }
   },
   "cell_type": "code",
   "source": [
    "procesador = MiProcesadorNLP()\n",
    "resultado = procesador.ejecutar(question=\"¿Cuál es la capital de Francia?\")\n",
    "logging.info(f\"Resultado: {resultado}\")"
   ],
   "id": "7e1cde388b88700f",
   "outputs": [
    {
     "name": "stderr",
     "output_type": "stream",
     "text": [
      "/Users/adrianinfantes/Library/Caches/pypoetry/virtualenvs/triviatflix-C5VKzA79-py3.12/lib/python3.12/site-packages/langchain_core/_api/deprecation.py:119: LangChainDeprecationWarning: The class `OpenAI` was deprecated in LangChain 0.0.10 and will be removed in 0.3.0. An updated version of the class exists in the langchain-openai package and should be used instead. To use it run `pip install -U langchain-openai` and import as `from langchain_openai import OpenAI`.\n",
      "  warn_deprecated(\n",
      "/Users/adrianinfantes/Library/Caches/pypoetry/virtualenvs/triviatflix-C5VKzA79-py3.12/lib/python3.12/site-packages/langchain_core/_api/deprecation.py:119: LangChainDeprecationWarning: The class `LLMChain` was deprecated in LangChain 0.1.17 and will be removed in 0.3.0. Use RunnableSequence, e.g., `prompt | llm` instead.\n",
      "  warn_deprecated(\n",
      "/Users/adrianinfantes/Library/Caches/pypoetry/virtualenvs/triviatflix-C5VKzA79-py3.12/lib/python3.12/site-packages/langchain_core/_api/deprecation.py:119: LangChainDeprecationWarning: The method `Chain.run` was deprecated in langchain 0.1.0 and will be removed in 0.3.0. Use invoke instead.\n",
      "  warn_deprecated(\n",
      "2024-05-11 22:54:32,218 - INFO - HTTP Request: POST https://api.openai.com/v1/completions \"HTTP/1.1 200 OK\"\n",
      "2024-05-11 22:54:32,234 - INFO - ejecutar tomó 0.5237529277801514 segundos en ejecutarse.\n",
      "2024-05-11 22:54:32,244 - INFO - Resultado: \n",
      "\n",
      "La capital de Francia es París.\n"
     ]
    }
   ],
   "execution_count": 4
  },
  {
   "metadata": {
    "ExecuteTime": {
     "end_time": "2024-05-11T20:57:04.265163Z",
     "start_time": "2024-05-11T20:57:04.256205Z"
    }
   },
   "cell_type": "code",
   "source": [
    "import json\n",
    "\n",
    "# Configuración del logging\n",
    "logging.basicConfig(level=logging.INFO, format='%(asctime)s - %(levelname)s - %(message)s')\n",
    "\n",
    "class ProcesadorJson:\n",
    "    def __init__(self, ruta_archivo):\n",
    "        self.ruta_archivo = ruta_archivo\n",
    "\n",
    "    def cargar_json(self):\n",
    "        \"\"\"\n",
    "        Carga un archivo JSON y devuelve su contenido.\n",
    "        \"\"\"\n",
    "        try:\n",
    "            with open(self.ruta_archivo, \"r\") as f:\n",
    "                data = json.load(f)\n",
    "            logging.info(f\"Archivo JSON cargado con éxito: '{self.ruta_archivo}'.\")\n",
    "            return data\n",
    "        except Exception as e:\n",
    "            logging.error(f\"Error al cargar el archivo JSON: {e}\")\n",
    "            return None\n",
    "\n",
    "    def preparar_texto(self):\n",
    "        \"\"\"\n",
    "        Extrae títulos y opciones de las preguntas del JSON, concatenándolos en una única cadena de texto.\n",
    "        \"\"\"\n",
    "        data = self.cargar_json()\n",
    "        if data:\n",
    "            texto_completo = ' '.join([\n",
    "                f\"{item['titulo']} Opción A: {item['opcionA']} Opción B: {item['opcionB']} \" +\n",
    "                f\"Opción C: {item['opcionC']} Opción D: {item['opcionD']}\" \n",
    "                for item in data\n",
    "            ])\n",
    "            logging.info(\"Texto preparado con éxito a partir de JSON.\")\n",
    "            return texto_completo\n",
    "        else:\n",
    "            logging.error(\"No se pudo cargar datos para preparar texto.\")\n",
    "            return \"\""
   ],
   "id": "bcee98f5364666e6",
   "outputs": [],
   "execution_count": 5
  },
  {
   "metadata": {
    "ExecuteTime": {
     "end_time": "2024-05-11T20:57:05.275144Z",
     "start_time": "2024-05-11T20:57:05.270008Z"
    }
   },
   "cell_type": "code",
   "source": [
    "# Uso de ProcesadorJson para cargar un archivo JSON\n",
    "\n",
    "procesador_json = ProcesadorJson(ruta_archivo=json_path)\n",
    "texto_completo = procesador_json.preparar_texto()\n",
    "print(texto_completo)"
   ],
   "id": "d96312afa522e1ad",
   "outputs": [
    {
     "name": "stderr",
     "output_type": "stream",
     "text": [
      "2024-05-11 22:57:05,272 - INFO - Archivo JSON cargado con éxito: '/Users/adrianinfantes/Desktop/AIR/CollegeStudies/MachineLearningPath/Portfolio/DevProjects/TriviaFlix/data/PreguntasYRespuestas.json'.\n",
      "2024-05-11 22:57:05,273 - INFO - Texto preparado con éxito a partir de JSON.\n"
     ]
    },
    {
     "name": "stdout",
     "output_type": "stream",
     "text": [
      "¿Cuál es el nombre del personaje principal en la serie 'Stranger Things'? Opción A: Mike Wheeler Opción B: Eleven Opción C: Dustin Henderson Opción D: Will Byers ¿Quién interpreta a Frank Underwood en la serie 'House of Cards'? Opción A: Kevin Spacey Opción B: Robin Wright Opción C: Michael Kelly Opción D: Kate Mara ¿Qué serie documental de crímenes reales se hizo famosa por su episodio titulado 'Making a Murderer'? Opción A: The Keepers Opción B: The Jinx Opción C: Making a Murderer Opción D: The Staircase ¿Cuál es el título de la serie sobre el nacimiento de la música hip-hop en Nueva York en los años 70 y 80? Opción A: The Get Down Opción B: Hip-Hop Evolution Opción C: Rhythm + Flow Opción D: Empire ¿Quién es el creador de la serie 'Black Mirror'? Opción A: Charlie Brooker Opción B: Dan Harmon Opción C: David Benioff Opción D: D.B. Weiss ¿Cuál es el título de la película sobre la vida de Barack Obama, protagonizada por Devon Terrell? Opción A: Barry Opción B: The Obama Effect Opción C: Southside with You Opción D: My Name Is My Name ¿En qué película original de Netflix, dirigida por Ava DuVernay, se narra la historia de cinco jóvenes acusados injustamente de un crimen en Central Park? Opción A: When They See Us Opción B: 13th Opción C: Mudbound Opción D: Fruitvale Station ¿Cuál es el título de la película protagonizada por Sandra Bullock, donde un grupo de personas debe sobrevivir con los ojos vendados para no ser afectados por una fuerza misteriosa que hace que las personas se suiciden? Opción A: Bird Box Opción B: A Quiet Place Opción C: The Silence Opción D: The Happening ¿Quién dirigió la película de ciencia ficción 'Aniquilación', protagonizada por Natalie Portman? Opción A: Denis Villeneuve Opción B: Alfonso Cuarón Opción C: Alex Garland Opción D: David Cronenberg ¿Qué actor interpreta al personaje principal en la película 'El irlandés', dirigida por Martin Scorsese? Opción A: Robert De Niro Opción B: Al Pacino Opción C: Joe Pesci Opción D: Harvey Keitel ¿Cuál es el título de la serie sobre un misterioso pueblo en Oregón donde suceden fenómenos paranormales, creada por Alex Hirsch? Opción A: Gravity Falls Opción B: Twin Peaks Opción C: Stranger Things Opción D: Dark ¿Qué serie de animación para adultos sigue las aventuras de BoJack Horseman, un caballo que fue estrella de una exitosa serie de los 90? Opción A: Rick and Morty Opción B: Archer Opción C: Family Guy Opción D: BoJack Horseman ¿En qué serie de Netflix se muestra la vida del narcotraficante colombiano Pablo Escobar? Opción A: Breaking Bad Opción B: Narcos Opción C: El Chapo Opción D: La Reina del Sur ¿Cuál es el nombre del personaje principal en la serie 'La Casa de Papel'? Opción A: El Profesor Opción B: Tokio Opción C: Berlín Opción D: Río ¿Quién interpreta a Geralt de Rivia en la serie 'The Witcher'? Opción A: Henry Cavill Opción B: Jason Momoa Opción C: Kit Harington Opción D: Tom Hardy ¿Cuál es el título de la película de ciencia ficción dirigida por Christopher Nolan, donde los sueños son el centro de la trama? Opción A: Inception Opción B: Interstellar Opción C: The Matrix Opción D: Eternal Sunshine of the Spotless Mind ¿Qué película de Netflix cuenta la historia de un joven músico que busca cumplir su sueño de convertirse en una estrella de la música country? Opción A: The Highwaymen Opción B: Dolemite Is My Name Opción C: A Futile and Stupid Gesture Opción D: A Star Is Born ¿Cuál es el título de la película original de Netflix protagonizada por Sandra Bullock, donde debe llevar a dos niños a un lugar seguro en medio de un apocalipsis? Opción A: A Quiet Place Opción B: Bird Box Opción C: The Silence Opción D: Train to Busan ¿Quién dirigió la película de suspenso 'El Hoyo', donde los prisioneros están encerrados en una torre con diferentes niveles? Opción A: Álex de la Iglesia Opción B: Jaume Collet-Serra Opción C: Pedro Almodóvar Opción D: Galder Gaztelu-Urrutia ¿Qué actor interpreta a Sherlock Holmes en la película 'Enola Holmes'? Opción A: Robert Downey Jr. Opción B: Jude Law Opción C: Henry Cavill Opción D: Benedict Cumberbatch ¿Cuál es el título de la serie de comedia que sigue la vida de una familia adinerada que pierde su fortuna y debe mudarse a un pueblo pequeño? Opción A: The Good Place Opción B: Arrested Development Opción C: Schitt's Creek Opción D: Parks and Recreation ¿Qué serie de drama sigue la vida de una familia mafiosa en Birmingham, Inglaterra, después de la Primera Guerra Mundial? Opción A: The Crown Opción B: Peaky Blinders Opción C: Boardwalk Empire Opción D: The Sopranos ¿En qué serie de Netflix un grupo de jóvenes rebeldes crean una banda de música para luchar contra una corporación malvada? Opción A: The Umbrella Academy Opción B: GLOW Opción C: Teenage Bounty Hunters Opción D: Julie and the Phantoms ¿Quién es el creador de la serie de terror 'Hill House', basada en la novela homónima de Shirley Jackson? Opción A: Mike Flanagan Opción B: Ryan Murphy Opción C: David Lynch Opción D: Stephen King ¿Cuál es el título de la serie británica que sigue la vida de una familia aristocrática en el periodo de entreguerras? Opción A: Peaky Blinders Opción B: Downton Abbey Opción C: The Crown Opción D: The Marvelous Mrs. Maisel ¿Cuál es el título de la película de ciencia ficción protagonizada por Natalie Portman, donde un equipo de mujeres investiga una misteriosa área conocida como 'La Zona'? Opción A: Annihilation Opción B: Ex Machina Opción C: Arrival Opción D: Interstellar ¿En qué película original de Netflix un joven se infiltra en una pandilla de carretera en Los Ángeles para investigar la desaparición de su hermano? Opción A: Imperial Dreams Opción B: Beasts of No Nation Opción C: Mudbound Opción D: Lost Bullet ¿Cuál es el título de la película de terror sobrenatural donde una familia debe sobrevivir a una serie de fenómenos paranormales en su nueva casa? Opción A: The Conjuring Opción B: Sinister Opción C: Insidious Opción D: The Haunting of Hill House ¿Quién dirigió la película 'El Ritual', donde un grupo de amigos enfrenta a una entidad sobrenatural en un bosque sueco? Opción A: Ari Aster Opción B: Mike Flanagan Opción C: David Bruckner Opción D: Jordan Peele ¿Cuál es el título de la película de comedia protagonizada por Adam Sandler, donde interpreta a un joyero de Nueva York con problemas de juego? Opción A: Uncut Gems Opción B: The Meyerowitz Stories Opción C: Punch-Drunk Love Opción D: Spanglish ¿Cuál es el título de la serie de ciencia ficción que sigue a un grupo de androides que luchan por su libertad en un parque temático de robots? Opción A: Westworld Opción B: Humans Opción C: Black Mirror Opción D: Altered Carbon ¿Qué serie documental de Netflix narra la historia de Steven Avery, quien fue injustamente condenado por un crimen que no cometió? Opción A: Making a Murderer Opción B: The Keepers Opción C: The Staircase Opción D: Evil Genius ¿Quién interpreta a Eleven en la serie 'Stranger Things'? Opción A: Millie Bobby Brown Opción B: Winona Ryder Opción C: Finn Wolfhard Opción D: David Harbour ¿Cuál es el título de la serie animada que sigue las aventuras de un científico loco y su nieto aventurero? Opción A: Futurama Opción B: The Simpsons Opción C: Rick and Morty Opción D: Archer ¿En qué serie de Netflix un grupo de jóvenes usa la tecnología para viajar en el tiempo y prevenir la catástrofe? Opción A: Dark Opción B: Stranger Things Opción C: Travelers Opción D: Altered Carbon ¿Cuál es el título de la película protagonizada por Will Smith, donde interpreta a un agente del gobierno que lucha contra una invasión alienígena? Opción A: Independence Day Opción B: Men in Black Opción C: I Am Legend Opción D: After Earth ¿Qué película de Netflix sigue la historia de un ingeniero que lucha por la supervivencia en Marte después de ser abandonado por su tripulación? Opción A: Interstellar Opción B: The Martian Opción C: Gravity Opción D: Moon ¿Quién dirigió la película de terror 'It Follows', donde una joven es perseguida por una entidad sobrenatural después de un encuentro sexual? Opción A: Jordan Peele Opción B: Robert Eggers Opción C: David Robert Mitchell Opción D: Ari Aster ¿Cuál es el título de la película de comedia protagonizada por Bill Murray, donde revive una y otra vez el mismo día? Opción A: Groundhog Day Opción B: Palm Springs Opción C: Happy Death Day Opción D: Edge of Tomorrow ¿En qué película una joven es perseguida por un hombre con una máscara blanca después de jugar a un juego misterioso? Opción A: Scream Opción B: The Strangers Opción C: Hush Opción D: The Babadook ¿Cuál es el título de la serie de comedia protagonizada por Steve Carell que sigue la vida cotidiana en una oficina de Scranton, Pennsylvania? Opción A: Brooklyn Nine-Nine Opción B: The Office Opción C: Parks and Recreation Opción D: It's Always Sunny in Philadelphia ¿En qué serie un hombre comienza a recibir cartas de amor y consejos de su yo del futuro, lo que afecta su vida amorosa y profesional? Opción A: The Flash Opción B: Arrow Opción C: Lucifer Opción D: You ¿Quién interpreta a Carrie Bradshaw en la serie 'Sex and the City'? Opción A: Sarah Jessica Parker Opción B: Kristin Davis Opción C: Cynthia Nixon Opción D: Kim Cattrall ¿En qué serie una joven regresa a su pueblo natal después de escapar de un culto religioso? Opción A: The Leftovers Opción B: The OA Opción C: Sharp Objects Opción D: Big Little Lies ¿Cuál es el título de la serie británica que sigue las vidas entrelazadas de personajes en el suburbio de Manchester? Opción A: Skins Opción B: Misfits Opción C: Shameless Opción D: Skins ¿Cuál es el título de la película de ciencia ficción donde un equipo de astronautas debe investigar un agujero negro en el espacio? Opción A: Gravity Opción B: Interstellar Opción C: The Martian Opción D: Event Horizon ¿Qué película original de Netflix sigue la historia de un joven gay que lucha por aceptarse a sí mismo y encontrar el amor? Opción A: Call Me by Your Name Opción B: God's Own Country Opción C: Alex Strangelove Opción D: Moonlight ¿Quién dirigió la película de terror psicológico 'The Babadook', donde una madre lucha por proteger a su hijo de una entidad sobrenatural? Opción A: Jennifer Kent Opción B: Karyn Kusama Opción C: Julia Ducournau Opción D: Ana Lily Amirpour ¿Cuál es el título de la película de comedia donde un grupo de amigos hace una carrera de borrachos de una costa estadounidense a otra? Opción A: EuroTrip Opción B: Road Trip Opción C: The Hangover Opción D: Dude, Where's My Car? ¿En qué película una joven se enamora de una criatura marina en un laboratorio secreto durante la Guerra Fría? Opción A: The Shape of Water Opción B: La La Land Opción C: Pan's Labyrinth Opción D: Crimson Peak\n"
     ]
    }
   ],
   "execution_count": 6
  },
  {
   "metadata": {
    "ExecuteTime": {
     "end_time": "2024-05-11T20:57:06.578195Z",
     "start_time": "2024-05-11T20:57:06.574909Z"
    }
   },
   "cell_type": "code",
   "source": [
    "from langchain.text_splitter import CharacterTextSplitter\n",
    "import logging\n",
    "\n",
    "class SeparadorTexto:\n",
    "    def __init__(self, separator=\".\", chunk_size=1000, chunk_overlap=200):\n",
    "        self.text_splitter = CharacterTextSplitter(\n",
    "            separator=separator,\n",
    "            chunk_size=chunk_size,\n",
    "            chunk_overlap=chunk_overlap,\n",
    "            length_function=len,\n",
    "        )\n",
    "    \n",
    "    def dividir_texto(self, texto):\n",
    "        \"\"\"\n",
    "        Divide el texto en segmentos más pequeños basados en la configuración inicial.\n",
    "        \"\"\"\n",
    "        try:\n",
    "            texts = self.text_splitter.split_text(texto)\n",
    "            logging.info(f\"Texto dividido en {len(texts)} segmentos.\")\n",
    "            return texts\n",
    "        except Exception as e:\n",
    "            logging.error(f\"Error al dividir texto: {e}\")\n",
    "            return []"
   ],
   "id": "4251e4654186666e",
   "outputs": [],
   "execution_count": 7
  },
  {
   "metadata": {
    "ExecuteTime": {
     "end_time": "2024-05-11T20:57:07.782869Z",
     "start_time": "2024-05-11T20:57:07.779509Z"
    }
   },
   "cell_type": "code",
   "source": [
    "# Integración con el flujo de trabajo\n",
    "\n",
    "if texto_completo:\n",
    "    separador = SeparadorTexto()\n",
    "    segmentos_texto = separador.dividir_texto(texto_completo)\n",
    "    \n",
    "    if segmentos_texto:\n",
    "        # Procesar cada segmento con `MiProcesadorNLP` u otra lógica específica\n",
    "        # Por ejemplo, imprimir el primer segmento\n",
    "        print(segmentos_texto[0])\n",
    "    else:\n",
    "        print(\"No se pudo dividir el texto.\")\n",
    "else:\n",
    "    print(\"No se pudo extraer texto del archivo JSON.\")"
   ],
   "id": "807405fab89beba2",
   "outputs": [
    {
     "name": "stderr",
     "output_type": "stream",
     "text": [
      "2024-05-11 22:57:07,780 - WARNING - Created a chunk of size 3162, which is longer than the specified 1000\n",
      "2024-05-11 22:57:07,781 - WARNING - Created a chunk of size 1194, which is longer than the specified 1000\n",
      "2024-05-11 22:57:07,781 - INFO - Texto dividido en 4 segmentos.\n"
     ]
    },
    {
     "name": "stdout",
     "output_type": "stream",
     "text": [
      "¿Cuál es el nombre del personaje principal en la serie 'Stranger Things'? Opción A: Mike Wheeler Opción B: Eleven Opción C: Dustin Henderson Opción D: Will Byers ¿Quién interpreta a Frank Underwood en la serie 'House of Cards'? Opción A: Kevin Spacey Opción B: Robin Wright Opción C: Michael Kelly Opción D: Kate Mara ¿Qué serie documental de crímenes reales se hizo famosa por su episodio titulado 'Making a Murderer'? Opción A: The Keepers Opción B: The Jinx Opción C: Making a Murderer Opción D: The Staircase ¿Cuál es el título de la serie sobre el nacimiento de la música hip-hop en Nueva York en los años 70 y 80? Opción A: The Get Down Opción B: Hip-Hop Evolution Opción C: Rhythm + Flow Opción D: Empire ¿Quién es el creador de la serie 'Black Mirror'? Opción A: Charlie Brooker Opción B: Dan Harmon Opción C: David Benioff Opción D: D.B\n"
     ]
    }
   ],
   "execution_count": 8
  },
  {
   "metadata": {
    "ExecuteTime": {
     "end_time": "2024-05-11T20:57:10.335767Z",
     "start_time": "2024-05-11T20:57:10.331740Z"
    }
   },
   "cell_type": "code",
   "source": [
    "from langchain.embeddings.openai import OpenAIEmbeddings\n",
    "from langchain.vectorstores import FAISS\n",
    "import logging\n",
    "\n",
    "class BuscadorDocumentos:\n",
    "    def __init__(self):\n",
    "        self.embeddings = OpenAIEmbeddings()\n",
    "        self.docsearch = None  # Se inicializará después con los textos\n",
    "    \n",
    "    def inicializar_busqueda(self, texts):\n",
    "        \"\"\"\n",
    "        Inicializa el motor de búsqueda FAISS con los textos proporcionados.\n",
    "        \"\"\"\n",
    "        try:\n",
    "            self.docsearch = FAISS.from_texts(texts, self.embeddings)\n",
    "            logging.info(\"Motor de búsqueda FAISS inicializado con éxito.\")\n",
    "        except Exception as e:\n",
    "            logging.error(f\"Error al inicializar FAISS: {e}\")\n",
    "            self.docsearch = None\n",
    "    \n",
    "    def buscar(self, query, top_n=5, search_type='similarity'):\n",
    "        \"\"\"\n",
    "        Realiza una búsqueda en el motor FAISS y devuelve los top_n resultados.\n",
    "        Se espera que search_type sea 'similarity' o 'mmr'.\n",
    "        \"\"\"\n",
    "        if not self.docsearch:\n",
    "            logging.error(\"Motor de búsqueda FAISS no inicializado.\")\n",
    "            return []\n",
    "        try:\n",
    "            resultados = self.docsearch.search(query, top_n=top_n, search_type=search_type)\n",
    "            logging.info(f\"Búsqueda realizada con éxito. {len(resultados)} resultados encontrados.\")\n",
    "            return resultados\n",
    "        except Exception as e:\n",
    "            logging.error(f\"Error durante la búsqueda: {e}\")\n",
    "            return []"
   ],
   "id": "b957e70919f960e6",
   "outputs": [],
   "execution_count": 9
  },
  {
   "metadata": {
    "ExecuteTime": {
     "end_time": "2024-05-11T20:57:13.452411Z",
     "start_time": "2024-05-11T20:57:12.607489Z"
    }
   },
   "cell_type": "code",
   "source": [
    "buscador = BuscadorDocumentos()\n",
    "buscador.inicializar_busqueda(segmentos_texto)\n",
    "\n",
    "# Realizar una búsqueda de ejemplo\n",
    "resultados_busqueda = buscador.buscar(\"Consulta de ejemplo\", top_n=3)\n",
    "if resultados_busqueda:\n",
    "    print(\"Resultados de la búsqueda:\", resultados_busqueda)\n",
    "else:\n",
    "    print(\"No se encontraron resultados.\")"
   ],
   "id": "8c371dea2264cca9",
   "outputs": [
    {
     "name": "stderr",
     "output_type": "stream",
     "text": [
      "/Users/adrianinfantes/Library/Caches/pypoetry/virtualenvs/triviatflix-C5VKzA79-py3.12/lib/python3.12/site-packages/langchain_core/_api/deprecation.py:119: LangChainDeprecationWarning: The class `OpenAIEmbeddings` was deprecated in LangChain 0.0.9 and will be removed in 0.3.0. An updated version of the class exists in the langchain-openai package and should be used instead. To use it run `pip install -U langchain-openai` and import as `from langchain_openai import OpenAIEmbeddings`.\n",
      "  warn_deprecated(\n",
      "2024-05-11 22:57:13,099 - INFO - HTTP Request: POST https://api.openai.com/v1/embeddings \"HTTP/1.1 200 OK\"\n",
      "2024-05-11 22:57:13,224 - INFO - Loading faiss.\n",
      "2024-05-11 22:57:13,250 - INFO - Successfully loaded faiss.\n",
      "2024-05-11 22:57:13,254 - INFO - Motor de búsqueda FAISS inicializado con éxito.\n",
      "2024-05-11 22:57:13,443 - INFO - HTTP Request: POST https://api.openai.com/v1/embeddings \"HTTP/1.1 200 OK\"\n",
      "2024-05-11 22:57:13,450 - INFO - Búsqueda realizada con éxito. 4 resultados encontrados.\n"
     ]
    },
    {
     "name": "stdout",
     "output_type": "stream",
     "text": [
      "Resultados de la búsqueda: [Document(page_content=\"Maisel ¿Cuál es el título de la película de ciencia ficción protagonizada por Natalie Portman, donde un equipo de mujeres investiga una misteriosa área conocida como 'La Zona'? Opción A: Annihilation Opción B: Ex Machina Opción C: Arrival Opción D: Interstellar ¿En qué película original de Netflix un joven se infiltra en una pandilla de carretera en Los Ángeles para investigar la desaparición de su hermano? Opción A: Imperial Dreams Opción B: Beasts of No Nation Opción C: Mudbound Opción D: Lost Bullet ¿Cuál es el título de la película de terror sobrenatural donde una familia debe sobrevivir a una serie de fenómenos paranormales en su nueva casa? Opción A: The Conjuring Opción B: Sinister Opción C: Insidious Opción D: The Haunting of Hill House ¿Quién dirigió la película 'El Ritual', donde un grupo de amigos enfrenta a una entidad sobrenatural en un bosque sueco? Opción A: Ari Aster Opción B: Mike Flanagan Opción C: David Bruckner Opción D: Jordan Peele ¿Cuál es el título de la película de comedia protagonizada por Adam Sandler, donde interpreta a un joyero de Nueva York con problemas de juego? Opción A: Uncut Gems Opción B: The Meyerowitz Stories Opción C: Punch-Drunk Love Opción D: Spanglish ¿Cuál es el título de la serie de ciencia ficción que sigue a un grupo de androides que luchan por su libertad en un parque temático de robots? Opción A: Westworld Opción B: Humans Opción C: Black Mirror Opción D: Altered Carbon ¿Qué serie documental de Netflix narra la historia de Steven Avery, quien fue injustamente condenado por un crimen que no cometió? Opción A: Making a Murderer Opción B: The Keepers Opción C: The Staircase Opción D: Evil Genius ¿Quién interpreta a Eleven en la serie 'Stranger Things'? Opción A: Millie Bobby Brown Opción B: Winona Ryder Opción C: Finn Wolfhard Opción D: David Harbour ¿Cuál es el título de la serie animada que sigue las aventuras de un científico loco y su nieto aventurero? Opción A: Futurama Opción B: The Simpsons Opción C: Rick and Morty Opción D: Archer ¿En qué serie de Netflix un grupo de jóvenes usa la tecnología para viajar en el tiempo y prevenir la catástrofe? Opción A: Dark Opción B: Stranger Things Opción C: Travelers Opción D: Altered Carbon ¿Cuál es el título de la película protagonizada por Will Smith, donde interpreta a un agente del gobierno que lucha contra una invasión alienígena? Opción A: Independence Day Opción B: Men in Black Opción C: I Am Legend Opción D: After Earth ¿Qué película de Netflix sigue la historia de un ingeniero que lucha por la supervivencia en Marte después de ser abandonado por su tripulación? Opción A: Interstellar Opción B: The Martian Opción C: Gravity Opción D: Moon ¿Quién dirigió la película de terror 'It Follows', donde una joven es perseguida por una entidad sobrenatural después de un encuentro sexual? Opción A: Jordan Peele Opción B: Robert Eggers Opción C: David Robert Mitchell Opción D: Ari Aster ¿Cuál es el título de la película de comedia protagonizada por Bill Murray, donde revive una y otra vez el mismo día? Opción A: Groundhog Day Opción B: Palm Springs Opción C: Happy Death Day Opción D: Edge of Tomorrow ¿En qué película una joven es perseguida por un hombre con una máscara blanca después de jugar a un juego misterioso? Opción A: Scream Opción B: The Strangers Opción C: Hush Opción D: The Babadook ¿Cuál es el título de la serie de comedia protagonizada por Steve Carell que sigue la vida cotidiana en una oficina de Scranton, Pennsylvania? Opción A: Brooklyn Nine-Nine Opción B: The Office Opción C: Parks and Recreation Opción D: It's Always Sunny in Philadelphia ¿En qué serie un hombre comienza a recibir cartas de amor y consejos de su yo del futuro, lo que afecta su vida amorosa y profesional? Opción A: The Flash Opción B: Arrow Opción C: Lucifer Opción D: You ¿Quién interpreta a Carrie Bradshaw en la serie 'Sex and the City'? Opción A: Sarah Jessica Parker Opción B: Kristin Davis Opción C: Cynthia Nixon Opción D: Kim Cattrall ¿En qué serie una joven regresa a su pueblo natal después de escapar de un culto religioso? Opción A: The Leftovers Opción B: The OA Opción C: Sharp Objects Opción D: Big Little Lies ¿Cuál es el título de la serie británica que sigue las vidas entrelazadas de personajes en el suburbio de Manchester? Opción A: Skins Opción B: Misfits Opción C: Shameless Opción D: Skins ¿Cuál es el título de la película de ciencia ficción donde un equipo de astronautas debe investigar un agujero negro en el espacio? Opción A: Gravity Opción B: Interstellar Opción C: The Martian Opción D: Event Horizon ¿Qué película original de Netflix sigue la historia de un joven gay que lucha por aceptarse a sí mismo y encontrar el amor? Opción A: Call Me by Your Name Opción B: God's Own Country Opción C: Alex Strangelove Opción D: Moonlight ¿Quién dirigió la película de terror psicológico 'The Babadook', donde una madre lucha por proteger a su hijo de una entidad sobrenatural? Opción A: Jennifer Kent Opción B: Karyn Kusama Opción C: Julia Ducournau Opción D: Ana Lily Amirpour ¿Cuál es el título de la película de comedia donde un grupo de amigos hace una carrera de borrachos de una costa estadounidense a otra? Opción A: EuroTrip Opción B: Road Trip Opción C: The Hangover Opción D: Dude, Where's My Car? ¿En qué película una joven se enamora de una criatura marina en un laboratorio secreto durante la Guerra Fría? Opción A: The Shape of Water Opción B: La La Land Opción C: Pan's Labyrinth Opción D: Crimson Peak\"), Document(page_content=\"Weiss ¿Cuál es el título de la película sobre la vida de Barack Obama, protagonizada por Devon Terrell? Opción A: Barry Opción B: The Obama Effect Opción C: Southside with You Opción D: My Name Is My Name ¿En qué película original de Netflix, dirigida por Ava DuVernay, se narra la historia de cinco jóvenes acusados injustamente de un crimen en Central Park? Opción A: When They See Us Opción B: 13th Opción C: Mudbound Opción D: Fruitvale Station ¿Cuál es el título de la película protagonizada por Sandra Bullock, donde un grupo de personas debe sobrevivir con los ojos vendados para no ser afectados por una fuerza misteriosa que hace que las personas se suiciden? Opción A: Bird Box Opción B: A Quiet Place Opción C: The Silence Opción D: The Happening ¿Quién dirigió la película de ciencia ficción 'Aniquilación', protagonizada por Natalie Portman? Opción A: Denis Villeneuve Opción B: Alfonso Cuarón Opción C: Alex Garland Opción D: David Cronenberg ¿Qué actor interpreta al personaje principal en la película 'El irlandés', dirigida por Martin Scorsese? Opción A: Robert De Niro Opción B: Al Pacino Opción C: Joe Pesci Opción D: Harvey Keitel ¿Cuál es el título de la serie sobre un misterioso pueblo en Oregón donde suceden fenómenos paranormales, creada por Alex Hirsch? Opción A: Gravity Falls Opción B: Twin Peaks Opción C: Stranger Things Opción D: Dark ¿Qué serie de animación para adultos sigue las aventuras de BoJack Horseman, un caballo que fue estrella de una exitosa serie de los 90? Opción A: Rick and Morty Opción B: Archer Opción C: Family Guy Opción D: BoJack Horseman ¿En qué serie de Netflix se muestra la vida del narcotraficante colombiano Pablo Escobar? Opción A: Breaking Bad Opción B: Narcos Opción C: El Chapo Opción D: La Reina del Sur ¿Cuál es el nombre del personaje principal en la serie 'La Casa de Papel'? Opción A: El Profesor Opción B: Tokio Opción C: Berlín Opción D: Río ¿Quién interpreta a Geralt de Rivia en la serie 'The Witcher'? Opción A: Henry Cavill Opción B: Jason Momoa Opción C: Kit Harington Opción D: Tom Hardy ¿Cuál es el título de la película de ciencia ficción dirigida por Christopher Nolan, donde los sueños son el centro de la trama? Opción A: Inception Opción B: Interstellar Opción C: The Matrix Opción D: Eternal Sunshine of the Spotless Mind ¿Qué película de Netflix cuenta la historia de un joven músico que busca cumplir su sueño de convertirse en una estrella de la música country? Opción A: The Highwaymen Opción B: Dolemite Is My Name Opción C: A Futile and Stupid Gesture Opción D: A Star Is Born ¿Cuál es el título de la película original de Netflix protagonizada por Sandra Bullock, donde debe llevar a dos niños a un lugar seguro en medio de un apocalipsis? Opción A: A Quiet Place Opción B: Bird Box Opción C: The Silence Opción D: Train to Busan ¿Quién dirigió la película de suspenso 'El Hoyo', donde los prisioneros están encerrados en una torre con diferentes niveles? Opción A: Álex de la Iglesia Opción B: Jaume Collet-Serra Opción C: Pedro Almodóvar Opción D: Galder Gaztelu-Urrutia ¿Qué actor interpreta a Sherlock Holmes en la película 'Enola Holmes'? Opción A: Robert Downey Jr\"), Document(page_content=\"Opción B: Jude Law Opción C: Henry Cavill Opción D: Benedict Cumberbatch ¿Cuál es el título de la serie de comedia que sigue la vida de una familia adinerada que pierde su fortuna y debe mudarse a un pueblo pequeño? Opción A: The Good Place Opción B: Arrested Development Opción C: Schitt's Creek Opción D: Parks and Recreation ¿Qué serie de drama sigue la vida de una familia mafiosa en Birmingham, Inglaterra, después de la Primera Guerra Mundial? Opción A: The Crown Opción B: Peaky Blinders Opción C: Boardwalk Empire Opción D: The Sopranos ¿En qué serie de Netflix un grupo de jóvenes rebeldes crean una banda de música para luchar contra una corporación malvada? Opción A: The Umbrella Academy Opción B: GLOW Opción C: Teenage Bounty Hunters Opción D: Julie and the Phantoms ¿Quién es el creador de la serie de terror 'Hill House', basada en la novela homónima de Shirley Jackson? Opción A: Mike Flanagan Opción B: Ryan Murphy Opción C: David Lynch Opción D: Stephen King ¿Cuál es el título de la serie británica que sigue la vida de una familia aristocrática en el periodo de entreguerras? Opción A: Peaky Blinders Opción B: Downton Abbey Opción C: The Crown Opción D: The Marvelous Mrs\"), Document(page_content=\"¿Cuál es el nombre del personaje principal en la serie 'Stranger Things'? Opción A: Mike Wheeler Opción B: Eleven Opción C: Dustin Henderson Opción D: Will Byers ¿Quién interpreta a Frank Underwood en la serie 'House of Cards'? Opción A: Kevin Spacey Opción B: Robin Wright Opción C: Michael Kelly Opción D: Kate Mara ¿Qué serie documental de crímenes reales se hizo famosa por su episodio titulado 'Making a Murderer'? Opción A: The Keepers Opción B: The Jinx Opción C: Making a Murderer Opción D: The Staircase ¿Cuál es el título de la serie sobre el nacimiento de la música hip-hop en Nueva York en los años 70 y 80? Opción A: The Get Down Opción B: Hip-Hop Evolution Opción C: Rhythm + Flow Opción D: Empire ¿Quién es el creador de la serie 'Black Mirror'? Opción A: Charlie Brooker Opción B: Dan Harmon Opción C: David Benioff Opción D: D.B\")]\n"
     ]
    }
   ],
   "execution_count": 10
  },
  {
   "metadata": {
    "ExecuteTime": {
     "end_time": "2024-05-11T20:57:18.795091Z",
     "start_time": "2024-05-11T20:57:18.763219Z"
    }
   },
   "cell_type": "code",
   "source": [
    "from langchain.chains.question_answering import load_qa_chain\n",
    "from langchain.llms import OpenAI\n",
    "\n",
    "\n",
    "class ProcesadorQA:\n",
    "    def __init__(self, buscador_documentos):\n",
    "        self.buscador_documentos = buscador_documentos\n",
    "        self.chain = load_qa_chain(OpenAI(), chain_type=\"stuff\")\n",
    "    \n",
    "    def ejecutar_qa(self, query):\n",
    "        \"\"\"\n",
    "        Ejecuta una consulta de preguntas y respuestas utilizando documentos\n",
    "        relevantes obtenidos a través de una búsqueda de similitud.\n",
    "        \"\"\"\n",
    "        try:\n",
    "            # Realiza una búsqueda de similitud para encontrar documentos relevantes\n",
    "            docs = self.buscador_documentos.docsearch.similarity_search(query)\n",
    "            # Ejecuta la cadena QA con la pregunta y los documentos encontrados\n",
    "            resultado = self.chain.run(question=query, input_documents=docs)\n",
    "            logging.info(\"Consulta de QA ejecutada con éxito.\")\n",
    "            return resultado\n",
    "        except Exception as e:\n",
    "            logging.error(f\"Error al ejecutar la consulta de QA: {e}\")\n",
    "            return None"
   ],
   "id": "e27d93ff61814c3d",
   "outputs": [],
   "execution_count": 11
  },
  {
   "metadata": {
    "ExecuteTime": {
     "end_time": "2024-05-11T20:57:27.682407Z",
     "start_time": "2024-05-11T20:57:24.264609Z"
    }
   },
   "cell_type": "code",
   "source": [
    "# Creación y uso de ProcesadorQA\n",
    "procesador_qa = ProcesadorQA(buscador)\n",
    "resultado_qa = procesador_qa.ejecutar_qa(query=\"Haz un resumen de las preguntas y respuestas.\")\n",
    "\n",
    "if resultado_qa:\n",
    "    print(\"Resultado de la consulta QA:\", resultado_qa)\n",
    "else:\n",
    "    print(\"No se pudo ejecutar la consulta de QA.\")"
   ],
   "id": "ea6c125db128c65f",
   "outputs": [
    {
     "name": "stderr",
     "output_type": "stream",
     "text": [
      "2024-05-11 22:57:24,517 - INFO - HTTP Request: POST https://api.openai.com/v1/embeddings \"HTTP/1.1 200 OK\"\n",
      "2024-05-11 22:57:27,675 - INFO - HTTP Request: POST https://api.openai.com/v1/completions \"HTTP/1.1 200 OK\"\n",
      "2024-05-11 22:57:27,679 - INFO - Consulta de QA ejecutada con éxito.\n"
     ]
    },
    {
     "name": "stdout",
     "output_type": "stream",
     "text": [
      "Resultado de la consulta QA: \n",
      "1. ¿Cuál es el título de la película sobre la vida de Barack Obama, protagonizada por Devon Terrell? \n",
      "Respuesta: Opción A: Barry\n",
      "\n",
      "2. ¿En qué película original de Netflix, dirigida por Ava DuVernay, se narra la historia de cinco jóvenes acusados injustamente de un crimen en Central Park? \n",
      "Respuesta: Opción A: When They See Us \n",
      "\n",
      "3. ¿Cuál es el título de la película protagonizada por Sandra Bullock, donde un grupo de personas debe sobrevivir con los ojos vendados para no ser afectados por una fuerza misteriosa que hace que las personas se suiciden? \n",
      "Respuesta: Opción A: Bird Box\n",
      "\n",
      "4. ¿Quién dirigió la película de ciencia ficción 'Aniquilación', protagonizada por Natalie Portman? \n",
      "Respuesta: Opción C: Alex Garland\n",
      "\n",
      "5. ¿Qué actor interpreta al personaje principal en la película 'El irlandés', dirigida por Martin Scorsese? \n",
      "Respuesta: Opción A: Robert De Niro\n",
      "\n",
      "6. ¿Cuál es el título de la serie sobre un misterioso pueblo en Oreg\n"
     ]
    }
   ],
   "execution_count": 12
  },
  {
   "metadata": {
    "ExecuteTime": {
     "end_time": "2024-05-11T20:58:09.050694Z",
     "start_time": "2024-05-11T20:58:06.708197Z"
    }
   },
   "cell_type": "code",
   "source": [
    "# Otra consulta de ejemplo\n",
    "\n",
    "resultado_qa_2 = procesador_qa.ejecutar_qa(query=\"Nombra algunas de las series de netflix que se mencionan en el json.\")\n",
    "if resultado_qa_2:\n",
    "    print(\"Resultado de la consulta QA:\", resultado_qa_2)\n",
    "else:\n",
    "    print(\"No se pudo ejecutar la consulta de QA.\")"
   ],
   "id": "b7d6244a2d44254c",
   "outputs": [
    {
     "name": "stderr",
     "output_type": "stream",
     "text": [
      "2024-05-11 22:58:07,012 - INFO - HTTP Request: POST https://api.openai.com/v1/embeddings \"HTTP/1.1 200 OK\"\n",
      "2024-05-11 22:58:09,043 - INFO - HTTP Request: POST https://api.openai.com/v1/completions \"HTTP/1.1 200 OK\"\n",
      "2024-05-11 22:58:09,047 - INFO - Consulta de QA ejecutada con éxito.\n"
     ]
    },
    {
     "name": "stdout",
     "output_type": "stream",
     "text": [
      "Resultado de la consulta QA:  Algunas de las series de Netflix mencionadas en el json son: Annihilation, Imperial Dreams, The Ritual, Stranger Things, The Office, Dark, Making a Murderer, Sex and the City, The OA, Shameless, The Witcher, Inception, The Crown, Peaky Blinders, Stranger Things, House of Cards, Making a Murderer, The Get Down, Black Mirror, entre otras.\n"
     ]
    }
   ],
   "execution_count": 13
  },
  {
   "metadata": {
    "ExecuteTime": {
     "end_time": "2024-05-11T20:58:18.383337Z",
     "start_time": "2024-05-11T20:58:18.378238Z"
    }
   },
   "cell_type": "code",
   "source": [
    "import json\n",
    "\n",
    "class ProcesadorTrivia:\n",
    "    def __init__(self, datos_trivia, procesador_qa):\n",
    "        self.trivia = datos_trivia\n",
    "        self.procesador_qa = procesador_qa\n",
    "\n",
    "    def ejecutar_trivia(self):\n",
    "        \"\"\"Ejecuta las preguntas de trivia y almacena las respuestas utilizando un Procesador QA.\"\"\"\n",
    "        respuestas = {}\n",
    "        for pregunta in self.trivia:\n",
    "            pregunta_texto = f\"{pregunta['titulo']} Opción A: {pregunta['opcionA']} Opción B: {pregunta['opcionB']} \" \\\n",
    "                             f\"Opción C: {pregunta['opcionC']} Opción D: {pregunta['opcionD']}\"\n",
    "            # Simular la recuperación de respuesta utilizando ProcesadorQA\n",
    "            respuesta = self.procesador_qa.ejecutar_qa(query=pregunta_texto)\n",
    "            respuesta_correcta = pregunta[f\"opcion{pregunta['correcta'].upper()}\"]\n",
    "            respuestas[pregunta[\"id\"]] = {\n",
    "                \"pregunta\": pregunta_texto,\n",
    "                \"respuesta_obtenida\": respuesta,\n",
    "                \"respuesta_correcta\": respuesta_correcta\n",
    "            }\n",
    "        return respuestas\n",
    "    \n",
    "    def guardar_respuestas(self, respuestas, ruta_archivo):\n",
    "        \"\"\"Guarda las respuestas de la trivia en un archivo JSON.\"\"\"\n",
    "        try:\n",
    "            with open(ruta_archivo, \"w\") as f:\n",
    "                json.dump(respuestas, f, indent=4)\n",
    "            logging.info(f\"Respuestas de la trivia guardadas en '{ruta_archivo}'.\")\n",
    "        except Exception as e:\n",
    "            logging.error(f\"Error al guardar respuestas de la trivia: {e}\")"
   ],
   "id": "315e5a1af49a314d",
   "outputs": [],
   "execution_count": 14
  },
  {
   "metadata": {},
   "cell_type": "code",
   "outputs": [],
   "execution_count": null,
   "source": [
    "datos_trivia = procesador_json.cargar_json()\n",
    "procesador_trivia = ProcesadorTrivia(datos_trivia, procesador_qa)\n",
    "respuestas_trivia = procesador_trivia.ejecutar_trivia()\n",
    "procesador_trivia.guardar_respuestas(respuestas_trivia, \"respuestas_trivia.json\")"
   ],
   "id": "abbc767320cefd31"
  }
 ],
 "metadata": {
  "kernelspec": {
   "display_name": "Python 3",
   "language": "python",
   "name": "python3"
  },
  "language_info": {
   "codemirror_mode": {
    "name": "ipython",
    "version": 2
   },
   "file_extension": ".py",
   "mimetype": "text/x-python",
   "name": "python",
   "nbconvert_exporter": "python",
   "pygments_lexer": "ipython2",
   "version": "2.7.6"
  }
 },
 "nbformat": 4,
 "nbformat_minor": 5
}
